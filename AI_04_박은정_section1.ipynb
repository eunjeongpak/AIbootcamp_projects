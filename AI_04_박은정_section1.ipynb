{
  "nbformat": 4,
  "nbformat_minor": 0,
  "metadata": {
    "colab": {
      "name": "AI_04_박은정_section1",
      "provenance": [],
      "collapsed_sections": []
    },
    "kernelspec": {
      "name": "python3",
      "display_name": "Python 3"
    },
    "language_info": {
      "name": "python"
    }
  },
  "cells": [
    {
      "cell_type": "markdown",
      "metadata": {
        "id": "amvvyI3UoNOj"
      },
      "source": [
        "##Q 다음 분기에 어떤 게임을 설계해야 할까?\n",
        "\n",
        "주어진 데이터:게임 이름/플랫폼/출시 연도/장르/제작 회사/지역 별(북미, 유럽, 일본, 기타) 출고량\n"
      ]
    },
    {
      "cell_type": "markdown",
      "metadata": {
        "id": "JfNVa10voiIC"
      },
      "source": [
        "##1.데이터 전처리"
      ]
    },
    {
      "cell_type": "code",
      "metadata": {
        "colab": {
          "resources": {
            "http://localhost:8080/nbextensions/google.colab/files.js": {
              "data": "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",
              "ok": true,
              "headers": [
                [
                  "content-type",
                  "application/javascript"
                ]
              ],
              "status": 200,
              "status_text": ""
            }
          },
          "base_uri": "https://localhost:8080/",
          "height": 76
        },
        "id": "_m1UoJyqWg1d",
        "outputId": "e9fb71ca-c493-47d8-ccdd-2b338d8f1091"
      },
      "source": [
        "#데이터 업로드\n",
        "from google.colab import files\n",
        "uploaded = files.upload()"
      ],
      "execution_count": 2,
      "outputs": [
        {
          "output_type": "display_data",
          "data": {
            "text/html": [
              "\n",
              "     <input type=\"file\" id=\"files-8a4c83a0-30c3-4f85-a51f-523a41ac982e\" name=\"files[]\" multiple disabled\n",
              "        style=\"border:none\" />\n",
              "     <output id=\"result-8a4c83a0-30c3-4f85-a51f-523a41ac982e\">\n",
              "      Upload widget is only available when the cell has been executed in the\n",
              "      current browser session. Please rerun this cell to enable.\n",
              "      </output>\n",
              "      <script src=\"/nbextensions/google.colab/files.js\"></script> "
            ],
            "text/plain": [
              "<IPython.core.display.HTML object>"
            ]
          },
          "metadata": {
            "tags": []
          }
        },
        {
          "output_type": "stream",
          "text": [
            "Saving vgames2.csv to vgames2.csv\n"
          ],
          "name": "stdout"
        }
      ]
    },
    {
      "cell_type": "code",
      "metadata": {
        "colab": {
          "base_uri": "https://localhost:8080/",
          "height": 419
        },
        "id": "3kntdWCcXBFI",
        "outputId": "1c7f8025-c957-4c52-edbb-d4f62a21aaf1"
      },
      "source": [
        "#데이터셋 불러오기\n",
        "import pandas as pd \n",
        "df=pd.read_csv('vgames2.csv')\n",
        "df.drop(['Unnamed: 0'],axis=1, inplace=True)\n",
        "df.columns=['게임 이름','플랫폼','출시 연도','장르','제작 회사','북미지역 출고량', '유럽지역 출고량','일본지역 출고량','기타지역 출고량']\n",
        "df"
      ],
      "execution_count": 3,
      "outputs": [
        {
          "output_type": "execute_result",
          "data": {
            "text/html": [
              "<div>\n",
              "<style scoped>\n",
              "    .dataframe tbody tr th:only-of-type {\n",
              "        vertical-align: middle;\n",
              "    }\n",
              "\n",
              "    .dataframe tbody tr th {\n",
              "        vertical-align: top;\n",
              "    }\n",
              "\n",
              "    .dataframe thead th {\n",
              "        text-align: right;\n",
              "    }\n",
              "</style>\n",
              "<table border=\"1\" class=\"dataframe\">\n",
              "  <thead>\n",
              "    <tr style=\"text-align: right;\">\n",
              "      <th></th>\n",
              "      <th>게임 이름</th>\n",
              "      <th>플랫폼</th>\n",
              "      <th>출시 연도</th>\n",
              "      <th>장르</th>\n",
              "      <th>제작 회사</th>\n",
              "      <th>북미지역 출고량</th>\n",
              "      <th>유럽지역 출고량</th>\n",
              "      <th>일본지역 출고량</th>\n",
              "      <th>기타지역 출고량</th>\n",
              "    </tr>\n",
              "  </thead>\n",
              "  <tbody>\n",
              "    <tr>\n",
              "      <th>0</th>\n",
              "      <td>Candace Kane's Candy Factory</td>\n",
              "      <td>DS</td>\n",
              "      <td>2008.0</td>\n",
              "      <td>Action</td>\n",
              "      <td>Destineer</td>\n",
              "      <td>0.04</td>\n",
              "      <td>0</td>\n",
              "      <td>0</td>\n",
              "      <td>0</td>\n",
              "    </tr>\n",
              "    <tr>\n",
              "      <th>1</th>\n",
              "      <td>The Munchables</td>\n",
              "      <td>Wii</td>\n",
              "      <td>2009.0</td>\n",
              "      <td>Action</td>\n",
              "      <td>Namco Bandai Games</td>\n",
              "      <td>0.17</td>\n",
              "      <td>0</td>\n",
              "      <td>0</td>\n",
              "      <td>0.01</td>\n",
              "    </tr>\n",
              "    <tr>\n",
              "      <th>2</th>\n",
              "      <td>Otome wa Oanesama Boku ni Koi Shiteru Portable</td>\n",
              "      <td>PSP</td>\n",
              "      <td>2010.0</td>\n",
              "      <td>Adventure</td>\n",
              "      <td>Alchemist</td>\n",
              "      <td>0</td>\n",
              "      <td>0</td>\n",
              "      <td>0.02</td>\n",
              "      <td>0</td>\n",
              "    </tr>\n",
              "    <tr>\n",
              "      <th>3</th>\n",
              "      <td>Deal or No Deal: Special Edition</td>\n",
              "      <td>DS</td>\n",
              "      <td>2010.0</td>\n",
              "      <td>Misc</td>\n",
              "      <td>Zoo Games</td>\n",
              "      <td>0.04</td>\n",
              "      <td>0</td>\n",
              "      <td>0</td>\n",
              "      <td>0</td>\n",
              "    </tr>\n",
              "    <tr>\n",
              "      <th>4</th>\n",
              "      <td>Ben 10 Ultimate Alien: Cosmic Destruction</td>\n",
              "      <td>PS3</td>\n",
              "      <td>2010.0</td>\n",
              "      <td>Platform</td>\n",
              "      <td>D3Publisher</td>\n",
              "      <td>0.12</td>\n",
              "      <td>0.09</td>\n",
              "      <td>0</td>\n",
              "      <td>0.04</td>\n",
              "    </tr>\n",
              "    <tr>\n",
              "      <th>...</th>\n",
              "      <td>...</td>\n",
              "      <td>...</td>\n",
              "      <td>...</td>\n",
              "      <td>...</td>\n",
              "      <td>...</td>\n",
              "      <td>...</td>\n",
              "      <td>...</td>\n",
              "      <td>...</td>\n",
              "      <td>...</td>\n",
              "    </tr>\n",
              "    <tr>\n",
              "      <th>16593</th>\n",
              "      <td>Ice Age 2: The Meltdown</td>\n",
              "      <td>GC</td>\n",
              "      <td>2006.0</td>\n",
              "      <td>Platform</td>\n",
              "      <td>Vivendi Games</td>\n",
              "      <td>0.15</td>\n",
              "      <td>0.04</td>\n",
              "      <td>0</td>\n",
              "      <td>0.01</td>\n",
              "    </tr>\n",
              "    <tr>\n",
              "      <th>16594</th>\n",
              "      <td>Rainbow Islands: Revolution</td>\n",
              "      <td>PSP</td>\n",
              "      <td>2005.0</td>\n",
              "      <td>Action</td>\n",
              "      <td>Rising Star Games</td>\n",
              "      <td>0.01</td>\n",
              "      <td>0</td>\n",
              "      <td>0</td>\n",
              "      <td>0</td>\n",
              "    </tr>\n",
              "    <tr>\n",
              "      <th>16595</th>\n",
              "      <td>NBA 2K16</td>\n",
              "      <td>PS3</td>\n",
              "      <td>2015.0</td>\n",
              "      <td>Sports</td>\n",
              "      <td>Take-Two Interactive</td>\n",
              "      <td>0.44</td>\n",
              "      <td>0.19</td>\n",
              "      <td>0.03</td>\n",
              "      <td>0.13</td>\n",
              "    </tr>\n",
              "    <tr>\n",
              "      <th>16596</th>\n",
              "      <td>Toukiden: The Age of Demons</td>\n",
              "      <td>PSV</td>\n",
              "      <td>2013.0</td>\n",
              "      <td>Action</td>\n",
              "      <td>Tecmo Koei</td>\n",
              "      <td>0.05</td>\n",
              "      <td>0.05</td>\n",
              "      <td>0.25</td>\n",
              "      <td>0.03</td>\n",
              "    </tr>\n",
              "    <tr>\n",
              "      <th>16597</th>\n",
              "      <td>The King of Fighters '95</td>\n",
              "      <td>PS</td>\n",
              "      <td>1996.0</td>\n",
              "      <td>Fighting</td>\n",
              "      <td>Sony Computer Entertainment</td>\n",
              "      <td>0</td>\n",
              "      <td>0</td>\n",
              "      <td>0.16</td>\n",
              "      <td>0.01</td>\n",
              "    </tr>\n",
              "  </tbody>\n",
              "</table>\n",
              "<p>16598 rows × 9 columns</p>\n",
              "</div>"
            ],
            "text/plain": [
              "                                                게임 이름  플랫폼  ...  일본지역 출고량 기타지역 출고량\n",
              "0                        Candace Kane's Candy Factory   DS  ...         0        0\n",
              "1                                      The Munchables  Wii  ...         0     0.01\n",
              "2      Otome wa Oanesama Boku ni Koi Shiteru Portable  PSP  ...      0.02        0\n",
              "3                    Deal or No Deal: Special Edition   DS  ...         0        0\n",
              "4           Ben 10 Ultimate Alien: Cosmic Destruction  PS3  ...         0     0.04\n",
              "...                                               ...  ...  ...       ...      ...\n",
              "16593                         Ice Age 2: The Meltdown   GC  ...         0     0.01\n",
              "16594                     Rainbow Islands: Revolution  PSP  ...         0        0\n",
              "16595                                        NBA 2K16  PS3  ...      0.03     0.13\n",
              "16596                     Toukiden: The Age of Demons  PSV  ...      0.25     0.03\n",
              "16597                        The King of Fighters '95   PS  ...      0.16     0.01\n",
              "\n",
              "[16598 rows x 9 columns]"
            ]
          },
          "metadata": {
            "tags": []
          },
          "execution_count": 3
        }
      ]
    },
    {
      "cell_type": "code",
      "metadata": {
        "colab": {
          "base_uri": "https://localhost:8080/"
        },
        "id": "OfBowqKlXW7b",
        "outputId": "197eab62-88b9-46e0-dc40-c34b72f5d19b"
      },
      "source": [
        "#결측치 확인\n",
        "df.isnull().sum()"
      ],
      "execution_count": 4,
      "outputs": [
        {
          "output_type": "execute_result",
          "data": {
            "text/plain": [
              "게임 이름         0\n",
              "플랫폼           0\n",
              "출시 연도       271\n",
              "장르           50\n",
              "제작 회사        58\n",
              "북미지역 출고량      0\n",
              "유럽지역 출고량      0\n",
              "일본지역 출고량      0\n",
              "기타지역 출고량      0\n",
              "dtype: int64"
            ]
          },
          "metadata": {
            "tags": []
          },
          "execution_count": 4
        }
      ]
    },
    {
      "cell_type": "code",
      "metadata": {
        "colab": {
          "base_uri": "https://localhost:8080/",
          "height": 204
        },
        "id": "vR2jRASCxtmQ",
        "outputId": "8f320839-eb62-4c70-b533-62fe62ef3539"
      },
      "source": [
        "#결측치 제거\n",
        "df=df.dropna()\n",
        "df.head()"
      ],
      "execution_count": 5,
      "outputs": [
        {
          "output_type": "execute_result",
          "data": {
            "text/html": [
              "<div>\n",
              "<style scoped>\n",
              "    .dataframe tbody tr th:only-of-type {\n",
              "        vertical-align: middle;\n",
              "    }\n",
              "\n",
              "    .dataframe tbody tr th {\n",
              "        vertical-align: top;\n",
              "    }\n",
              "\n",
              "    .dataframe thead th {\n",
              "        text-align: right;\n",
              "    }\n",
              "</style>\n",
              "<table border=\"1\" class=\"dataframe\">\n",
              "  <thead>\n",
              "    <tr style=\"text-align: right;\">\n",
              "      <th></th>\n",
              "      <th>게임 이름</th>\n",
              "      <th>플랫폼</th>\n",
              "      <th>출시 연도</th>\n",
              "      <th>장르</th>\n",
              "      <th>제작 회사</th>\n",
              "      <th>북미지역 출고량</th>\n",
              "      <th>유럽지역 출고량</th>\n",
              "      <th>일본지역 출고량</th>\n",
              "      <th>기타지역 출고량</th>\n",
              "    </tr>\n",
              "  </thead>\n",
              "  <tbody>\n",
              "    <tr>\n",
              "      <th>0</th>\n",
              "      <td>Candace Kane's Candy Factory</td>\n",
              "      <td>DS</td>\n",
              "      <td>2008.0</td>\n",
              "      <td>Action</td>\n",
              "      <td>Destineer</td>\n",
              "      <td>0.04</td>\n",
              "      <td>0</td>\n",
              "      <td>0</td>\n",
              "      <td>0</td>\n",
              "    </tr>\n",
              "    <tr>\n",
              "      <th>1</th>\n",
              "      <td>The Munchables</td>\n",
              "      <td>Wii</td>\n",
              "      <td>2009.0</td>\n",
              "      <td>Action</td>\n",
              "      <td>Namco Bandai Games</td>\n",
              "      <td>0.17</td>\n",
              "      <td>0</td>\n",
              "      <td>0</td>\n",
              "      <td>0.01</td>\n",
              "    </tr>\n",
              "    <tr>\n",
              "      <th>2</th>\n",
              "      <td>Otome wa Oanesama Boku ni Koi Shiteru Portable</td>\n",
              "      <td>PSP</td>\n",
              "      <td>2010.0</td>\n",
              "      <td>Adventure</td>\n",
              "      <td>Alchemist</td>\n",
              "      <td>0</td>\n",
              "      <td>0</td>\n",
              "      <td>0.02</td>\n",
              "      <td>0</td>\n",
              "    </tr>\n",
              "    <tr>\n",
              "      <th>3</th>\n",
              "      <td>Deal or No Deal: Special Edition</td>\n",
              "      <td>DS</td>\n",
              "      <td>2010.0</td>\n",
              "      <td>Misc</td>\n",
              "      <td>Zoo Games</td>\n",
              "      <td>0.04</td>\n",
              "      <td>0</td>\n",
              "      <td>0</td>\n",
              "      <td>0</td>\n",
              "    </tr>\n",
              "    <tr>\n",
              "      <th>4</th>\n",
              "      <td>Ben 10 Ultimate Alien: Cosmic Destruction</td>\n",
              "      <td>PS3</td>\n",
              "      <td>2010.0</td>\n",
              "      <td>Platform</td>\n",
              "      <td>D3Publisher</td>\n",
              "      <td>0.12</td>\n",
              "      <td>0.09</td>\n",
              "      <td>0</td>\n",
              "      <td>0.04</td>\n",
              "    </tr>\n",
              "  </tbody>\n",
              "</table>\n",
              "</div>"
            ],
            "text/plain": [
              "                                            게임 이름  플랫폼  ...  일본지역 출고량 기타지역 출고량\n",
              "0                    Candace Kane's Candy Factory   DS  ...         0        0\n",
              "1                                  The Munchables  Wii  ...         0     0.01\n",
              "2  Otome wa Oanesama Boku ni Koi Shiteru Portable  PSP  ...      0.02        0\n",
              "3                Deal or No Deal: Special Edition   DS  ...         0        0\n",
              "4       Ben 10 Ultimate Alien: Cosmic Destruction  PS3  ...         0     0.04\n",
              "\n",
              "[5 rows x 9 columns]"
            ]
          },
          "metadata": {
            "tags": []
          },
          "execution_count": 5
        }
      ]
    },
    {
      "cell_type": "code",
      "metadata": {
        "colab": {
          "base_uri": "https://localhost:8080/"
        },
        "id": "W95h1c68whuX",
        "outputId": "c672e415-58df-4f61-da00-fb42f31a284d"
      },
      "source": [
        "#데이터 타입 확인\n",
        "df.dtypes"
      ],
      "execution_count": 6,
      "outputs": [
        {
          "output_type": "execute_result",
          "data": {
            "text/plain": [
              "게임 이름        object\n",
              "플랫폼          object\n",
              "출시 연도       float64\n",
              "장르           object\n",
              "제작 회사        object\n",
              "북미지역 출고량     object\n",
              "유럽지역 출고량     object\n",
              "일본지역 출고량     object\n",
              "기타지역 출고량     object\n",
              "dtype: object"
            ]
          },
          "metadata": {
            "tags": []
          },
          "execution_count": 6
        }
      ]
    },
    {
      "cell_type": "code",
      "metadata": {
        "colab": {
          "base_uri": "https://localhost:8080/"
        },
        "id": "HcT6Ufo97ud3",
        "outputId": "c7ca3f72-5542-4d34-f7bf-51377e5c882e"
      },
      "source": [
        "#출고량 데이터 타입 변환, 숫자(K,M) 단위 통일\n",
        "def f(x):\n",
        "  if 'K' in x:\n",
        "    x = x[:len(x)-1]\n",
        "    x = float(x)*1000\n",
        "  elif 'M' in x:\n",
        "    x = x[:len(x)-1] \n",
        "    x = float(x)*1000000\n",
        "  else:\n",
        "    x = float(x)*1000000\n",
        "  return x\n",
        "\n",
        "for col in ['북미지역 출고량','유럽지역 출고량','일본지역 출고량','기타지역 출고량']:\n",
        "  df[col] = df[col].apply(f)"
      ],
      "execution_count": 7,
      "outputs": [
        {
          "output_type": "stream",
          "text": [
            "/usr/local/lib/python3.7/dist-packages/ipykernel_launcher.py:14: SettingWithCopyWarning: \n",
            "A value is trying to be set on a copy of a slice from a DataFrame.\n",
            "Try using .loc[row_indexer,col_indexer] = value instead\n",
            "\n",
            "See the caveats in the documentation: https://pandas.pydata.org/pandas-docs/stable/user_guide/indexing.html#returning-a-view-versus-a-copy\n",
            "  \n"
          ],
          "name": "stderr"
        }
      ]
    },
    {
      "cell_type": "code",
      "metadata": {
        "colab": {
          "base_uri": "https://localhost:8080/"
        },
        "id": "v3dR5rKy7qul",
        "outputId": "6251a941-5574-40b4-e4b4-5422b894b224"
      },
      "source": [
        "#출고량 데이터 타입 변환 확인\n",
        "df.dtypes"
      ],
      "execution_count": 8,
      "outputs": [
        {
          "output_type": "execute_result",
          "data": {
            "text/plain": [
              "게임 이름        object\n",
              "플랫폼          object\n",
              "출시 연도       float64\n",
              "장르           object\n",
              "제작 회사        object\n",
              "북미지역 출고량    float64\n",
              "유럽지역 출고량    float64\n",
              "일본지역 출고량    float64\n",
              "기타지역 출고량    float64\n",
              "dtype: object"
            ]
          },
          "metadata": {
            "tags": []
          },
          "execution_count": 8
        }
      ]
    },
    {
      "cell_type": "code",
      "metadata": {
        "colab": {
          "base_uri": "https://localhost:8080/"
        },
        "id": "AyEPD6BB13hE",
        "outputId": "dddf6b18-7163-48c7-e81a-4d82815a905b"
      },
      "source": [
        "#출시 연도 통일 - 먼저 int로 타입 변환\n",
        "df = df.astype({'출시 연도': 'int'})\n",
        "print(df.dtypes)"
      ],
      "execution_count": 9,
      "outputs": [
        {
          "output_type": "stream",
          "text": [
            "게임 이름        object\n",
            "플랫폼          object\n",
            "출시 연도         int64\n",
            "장르           object\n",
            "제작 회사        object\n",
            "북미지역 출고량    float64\n",
            "유럽지역 출고량    float64\n",
            "일본지역 출고량    float64\n",
            "기타지역 출고량    float64\n",
            "dtype: object\n"
          ],
          "name": "stdout"
        }
      ]
    },
    {
      "cell_type": "code",
      "metadata": {
        "colab": {
          "base_uri": "https://localhost:8080/"
        },
        "id": "pHYiC6i7wk0D",
        "outputId": "ef27245e-c37f-4ddc-cf66-7a3c5cc1886c"
      },
      "source": [
        "#한 자리수/두 자리수 출시 연도 개수 확인 \n",
        "a=len(list(filter(lambda x: x < 10, df['출시 연도']))) #한 자리수 출시 연도 데이터\n",
        "b=len(list(filter(lambda x: 10 <= x <= 20, df['출시 연도']))) #두 자리수 출시 연도 데이터(10~20)\n",
        "c=len(list(filter(lambda x: 20 < x < 100, df['출시 연도']))) #두 자리수 출시 연도 데이터(20<x<100)\n",
        "print(a,b,c)"
      ],
      "execution_count": 10,
      "outputs": [
        {
          "output_type": "stream",
          "text": [
            "53 33 14\n"
          ],
          "name": "stdout"
        }
      ]
    },
    {
      "cell_type": "code",
      "metadata": {
        "id": "Om60gcMVxL9F"
      },
      "source": [
        "#출시 연도 통일 - 구간 나눠 1900, 2000 더해주기\n",
        "def f(x):\n",
        "  if x <= 20:\n",
        "    x = x + 2000\n",
        "  elif 20 < x <100: \n",
        "    x = x + 1900\n",
        "  else:\n",
        "    x = x\n",
        "    return x\n",
        "\n",
        "df['출시 연도']=df['출시 연도'].apply(f)"
      ],
      "execution_count": 11,
      "outputs": []
    },
    {
      "cell_type": "code",
      "metadata": {
        "colab": {
          "base_uri": "https://localhost:8080/",
          "height": 281
        },
        "id": "GZHYtoF82rSz",
        "outputId": "c6610dbf-7b17-4c6e-a9b1-7282f597398a"
      },
      "source": [
        "#출시 연도 통일 - 히스토그램 확인\n",
        "import matplotlib.pyplot as plt\n",
        "plt.hist(df['출시 연도'])\n",
        "plt.title('Year histogram')\n",
        "plt.show();"
      ],
      "execution_count": 12,
      "outputs": [
        {
          "output_type": "display_data",
          "data": {
            "image/png": "[encoded data removed]",
            "text/plain": [
              "<Figure size 432x288 with 1 Axes>"
            ]
          },
          "metadata": {
            "tags": [],
            "needs_background": "light"
          }
        }
      ]
    },
    {
      "cell_type": "markdown",
      "metadata": {
        "id": "HDghVrhZ7CLe"
      },
      "source": [
        "##2. 데이터 분석"
      ]
    },
    {
      "cell_type": "markdown",
      "metadata": {
        "id": "o960hqaMDL2e"
      },
      "source": [
        "지역에 따라서 선호하는 게임 장르가 다를까,\n",
        "연도별 게임의 트렌드가 있을까,\n",
        "출고량이 높은 게임에 대한 분석 및 시각화 프로세스가 포함\n"
      ]
    },
    {
      "cell_type": "code",
      "metadata": {
        "colab": {
          "base_uri": "https://localhost:8080/"
        },
        "id": "0boBROqe9VD3",
        "outputId": "04c95301-3012-4d2b-fad6-57a51a8b5140"
      },
      "source": [
        "!sudo apt-get install -y fonts-nanum\n",
        "!sudo fc-cache -fv\n",
        "!rm ~/.cache/matplotlib -rf"
      ],
      "execution_count": 3,
      "outputs": [
        {
          "output_type": "stream",
          "text": [
            "Reading package lists... Done\n",
            "Building dependency tree       \n",
            "Reading state information... Done\n",
            "The following package was automatically installed and is no longer required:\n",
            "  libnvidia-common-460\n",
            "Use 'sudo apt autoremove' to remove it.\n",
            "The following NEW packages will be installed:\n",
            "  fonts-nanum\n",
            "0 upgraded, 1 newly installed, 0 to remove and 34 not upgraded.\n",
            "Need to get 9,604 kB of archives.\n",
            "After this operation, 29.5 MB of additional disk space will be used.\n",
            "Get:1 http://archive.ubuntu.com/ubuntu bionic/universe amd64 fonts-nanum all 20170925-1 [9,604 kB]\n",
            "Fetched 9,604 kB in 1s (7,950 kB/s)\n",
            "debconf: unable to initialize frontend: Dialog\n",
            "debconf: (No usable dialog-like program is installed, so the dialog based frontend cannot be used. at /usr/share/perl5/Debconf/FrontEnd/Dialog.pm line 76, <> line 1.)\n",
            "debconf: falling back to frontend: Readline\n",
            "debconf: unable to initialize frontend: Readline\n",
            "debconf: (This frontend requires a controlling tty.)\n",
            "debconf: falling back to frontend: Teletype\n",
            "dpkg-preconfigure: unable to re-open stdin: \n",
            "Selecting previously unselected package fonts-nanum.\n",
            "(Reading database ... 160706 files and directories currently installed.)\n",
            "Preparing to unpack .../fonts-nanum_20170925-1_all.deb ...\n",
            "Unpacking fonts-nanum (20170925-1) ...\n",
            "Setting up fonts-nanum (20170925-1) ...\n",
            "Processing triggers for fontconfig (2.12.6-0ubuntu2) ...\n",
            "/usr/share/fonts: caching, new cache contents: 0 fonts, 1 dirs\n",
            "/usr/share/fonts/truetype: caching, new cache contents: 0 fonts, 3 dirs\n",
            "/usr/share/fonts/truetype/humor-sans: caching, new cache contents: 1 fonts, 0 dirs\n",
            "/usr/share/fonts/truetype/liberation: caching, new cache contents: 16 fonts, 0 dirs\n",
            "/usr/share/fonts/truetype/nanum: caching, new cache contents: 10 fonts, 0 dirs\n",
            "/usr/local/share/fonts: caching, new cache contents: 0 fonts, 0 dirs\n",
            "/root/.local/share/fonts: skipping, no such directory\n",
            "/root/.fonts: skipping, no such directory\n",
            "/var/cache/fontconfig: cleaning cache directory\n",
            "/root/.cache/fontconfig: not cleaning non-existent cache directory\n",
            "/root/.fontconfig: not cleaning non-existent cache directory\n",
            "fc-cache: succeeded\n"
          ],
          "name": "stdout"
        }
      ]
    },
    {
      "cell_type": "code",
      "metadata": {
        "id": "reXCoSKQ9Y3p"
      },
      "source": [
        "import matplotlib.pyplot as plt\n",
        "plt.rc('font', family='NanumBarunGothic') "
      ],
      "execution_count": 13,
      "outputs": []
    },
    {
      "cell_type": "code",
      "metadata": {
        "colab": {
          "base_uri": "https://localhost:8080/"
        },
        "id": "d8Ct7PMEY7G6",
        "outputId": "48896420-50f3-4e46-f4ca-ec3eb15a7089"
      },
      "source": [
        "!sudo pip3 install --upgrade scipy"
      ],
      "execution_count": 1,
      "outputs": [
        {
          "output_type": "stream",
          "text": [
            "Collecting scipy\n",
            "\u001b[?25l  Downloading https://files.pythonhosted.org/packages/7d/e8/43ffca541d2f208d516296950b25fe1084b35c2881f4d444c1346ca75815/scipy-1.6.3-cp37-cp37m-manylinux1_x86_64.whl (27.4MB)\n",
            "\u001b[K     |████████████████████████████████| 27.4MB 143kB/s \n",
            "\u001b[?25hRequirement already satisfied, skipping upgrade: numpy<1.23.0,>=1.16.5 in /usr/local/lib/python3.7/dist-packages (from scipy) (1.19.5)\n",
            "\u001b[31mERROR: albumentations 0.1.12 has requirement imgaug<0.2.7,>=0.2.5, but you'll have imgaug 0.2.9 which is incompatible.\u001b[0m\n",
            "Installing collected packages: scipy\n",
            "  Found existing installation: scipy 1.4.1\n",
            "    Uninstalling scipy-1.4.1:\n",
            "      Successfully uninstalled scipy-1.4.1\n",
            "Successfully installed scipy-1.6.3\n"
          ],
          "name": "stdout"
        }
      ]
    },
    {
      "cell_type": "markdown",
      "metadata": {
        "id": "k6rg4ihpdgbS"
      },
      "source": [
        "####1. 지역에 따라서 선호하는 게임의 장르가 다를까?"
      ]
    },
    {
      "cell_type": "code",
      "metadata": {
        "colab": {
          "base_uri": "https://localhost:8080/"
        },
        "id": "5lr2vpQE68rw",
        "outputId": "1aa3ee3f-006e-4497-97b5-211377d4e956"
      },
      "source": [
        "#각 지역에서 어떤 장르가 가장 출고량이 많을까?  \n",
        "df_장르=df.groupby('장르').sum()\n",
        "df_장르.drop(['출시 연도'],axis=1, inplace=True)\n",
        "\n",
        "a=df_장르['북미지역 출고량'].idxmax() #각 지역에서 출고량이 가장 큰 장르 추출\n",
        "b=df_장르['유럽지역 출고량'].idxmax()\n",
        "c=df_장르['일본지역 출고량'].idxmax()\n",
        "d=df_장르['기타지역 출고량'].idxmax()\n",
        "print(a,b,c,d)"
      ],
      "execution_count": 14,
      "outputs": [
        {
          "output_type": "stream",
          "text": [
            "Action Action Role-Playing Action\n"
          ],
          "name": "stdout"
        }
      ]
    },
    {
      "cell_type": "code",
      "metadata": {
        "colab": {
          "base_uri": "https://localhost:8080/"
        },
        "id": "ARtgnBtbO7Ed",
        "outputId": "90a2c60d-6d56-4f95-9f49-32834c51715f"
      },
      "source": [
        "#각 지역에서 어떤 장르가 가장 출고량이 많을까? \n",
        "df_장르2=df.groupby('장르').mean() \n",
        "df_장르2.drop(['출시 연도'],axis=1, inplace=True)\n",
        "\n",
        "a=df_장르2['북미지역 출고량'].idxmax() #각 지역에서 평균적으로 출고량이 가장 큰 장르 추출\n",
        "b=df_장르2['유럽지역 출고량'].idxmax()\n",
        "c=df_장르2['일본지역 출고량'].idxmax()\n",
        "d=df_장르2['기타지역 출고량'].idxmax()\n",
        "print(a,b,c,d)"
      ],
      "execution_count": 15,
      "outputs": [
        {
          "output_type": "stream",
          "text": [
            "Platform Shooter Role-Playing Shooter\n"
          ],
          "name": "stdout"
        }
      ]
    },
    {
      "cell_type": "code",
      "metadata": {
        "colab": {
          "base_uri": "https://localhost:8080/",
          "height": 606
        },
        "id": "F-dAYB4YBHOy",
        "outputId": "6872f291-a06c-49e5-e19e-8c3dc1984dd1"
      },
      "source": [
        "#각 지역 장르 별 출고량 확인(mean) - 그래프\n",
        "n = df.groupby(['장르'])['북미지역 출고량'].mean().sort_values(ascending=False) #북미지역: platform>shooter>sports>racing 장르 순으로 출고량이 많다.\n",
        "e = df.groupby(['장르'])['유럽지역 출고량'].mean().sort_values(ascending=False) #유럽지역: shooter>platform>racing>sports 장르 순으로 출고량이 많다.\n",
        "j = df.groupby(['장르'])['일본지역 출고량'].mean().sort_values(ascending=False) #일본지역: role-playing>platform>fighting>puzzle 장르 순으로 출고량이 많다.\n",
        "o = df.groupby(['장르'])['기타지역 출고량'].mean().sort_values(ascending=False) #기타지역: shooter>racing>platform>sports 장르 순으로 출고량이 많다.\n",
        "\n",
        "fig, ax = plt.subplots(nrows=2,ncols=2,figsize=(24,10))\n",
        "\n",
        "ax[0,0].plot(n)\n",
        "ax[0,0].set_title('북미지역')\n",
        "ax[0,1].plot(e)\n",
        "ax[0,1].set_title('유럽지역')\n",
        "ax[1,0].plot(j)\n",
        "ax[1,0].set_title('일본지역')\n",
        "ax[1,1].plot(o)\n",
        "ax[1,1].set_title('기타지역')\n",
        "\n",
        "plt.show()"
      ],
      "execution_count": 16,
      "outputs": [
        {
          "output_type": "display_data",
          "data": {
            "image/png": "[encoded data removed]",
            "text/plain": [
              "<Figure size 1728x720 with 4 Axes>"
            ]
          },
          "metadata": {
            "tags": [],
            "needs_background": "light"
          }
        }
      ]
    },
    {
      "cell_type": "markdown",
      "metadata": {
        "id": "djb0YIEIr032"
      },
      "source": [
        "각 지역 게임 출고량을 장르 별로 분석해보았다. 북미지역은 Platform, 유럽지역은 Shooter, 일본지역은 Role-Playing, 기타지역은 Shooter이 평균적으로 큰 출고량을 차지했다.\n",
        "\n",
        "그래프를 통해 확인한 결과, 북미지역은 platform>shooter>sports>racing 장르 순으로, 유럽지역은 shooter>platform>racing>sports 장르 순으로, 일본지역은 role-playing>platform>fighting>puzzle 장르 순으로, 기타지역은 shooter>racing>platform>sports 장르 순으로 출고량이 많았다.\n",
        "\n",
        "즉, 일본 지역을 제외한 나머지 세 지역에서는 platform, shooter, sports, racing이 출고량이 높았고 이를 제외한 다른 장르의 출고량도 거의 비슷한 형태를 보였다. 단, 일본 지역의 경우 role-playing이 가장 출고량이 높았다. 즉, 일본지역을 제외한 다른 지역에서는 선호하는 게임 장르가 유사하다고 할 수 있다."
      ]
    },
    {
      "cell_type": "markdown",
      "metadata": {
        "id": "uEQnXw-7rpA5"
      },
      "source": [
        "####2. 연도별 게임의 트렌드가 있을까?\n",
        "\n",
        "\n"
      ]
    },
    {
      "cell_type": "code",
      "metadata": {
        "id": "bGHbdwLk5OXo"
      },
      "source": [
        "#연도 별 게임 전체 트렌드 - 연도 별 총 출고량 확인 -> 이를 통해 시기에 따른 전체 게임 트렌드를 알 수 있다.\n",
        "df['총 출고량']=df['북미지역 출고량']+df['유럽지역 출고량']+df['일본지역 출고량']+df['기타지역 출고량'] #'총 출고량'이라는 새 Feature 생성"
      ],
      "execution_count": 17,
      "outputs": []
    },
    {
      "cell_type": "code",
      "metadata": {
        "colab": {
          "base_uri": "https://localhost:8080/",
          "height": 280
        },
        "id": "gmU6PGfv5D00",
        "outputId": "3d10ccb1-9972-49e6-caf6-eb5692e41abe"
      },
      "source": [
        "plt.plot(df.groupby('출시 연도')['총 출고량'].sum())\n",
        "plt.title('연도별 총 출고량')\n",
        "plt.show()"
      ],
      "execution_count": 18,
      "outputs": [
        {
          "output_type": "display_data",
          "data": {
            "image/png": "[encoded data removed]",
            "text/plain": [
              "<Figure size 432x288 with 1 Axes>"
            ]
          },
          "metadata": {
            "tags": [],
            "needs_background": "light"
          }
        }
      ]
    },
    {
      "cell_type": "markdown",
      "metadata": {
        "id": "v70XcyeGvorO"
      },
      "source": [
        "북미지역, 유럽지역, 일본지역, 기타지역의 출고량을 다 합해 총 출고량이라는 새로운 Feature을 생성한 후, 연도 별 총 출고량을 확인한 결과, 과거부터 출고량이 지속적으로 상승하다가 1995년부터 급격히 상승하여 2007-2009년 전 후로 정점을 찍고, 급격히 출고량이 감소하는 양상을 보인다."
      ]
    },
    {
      "cell_type": "code",
      "metadata": {
        "colab": {
          "base_uri": "https://localhost:8080/",
          "height": 878
        },
        "id": "hbL-XJp8xVIM",
        "outputId": "253f10d7-6c83-42e7-ce33-e8c0e9db4d72"
      },
      "source": [
        "#연도 별 게임 장르 트렌드 - 연도 별로 각 장르의 총 출고량 확인\n",
        "장르 = list(df['장르'].unique())\n",
        "장르.sort()\n",
        "\n",
        "fig,ax=plt.subplots(nrows=4,ncols=3,figsize=(25,15))\n",
        "\n",
        "for i, gen in enumerate(장르):\n",
        "  if i<=2:\n",
        "    r=0\n",
        "  elif i>2 and i <= 5:\n",
        "    r=1\n",
        "  elif i>5 and i <= 8:\n",
        "    r=2\n",
        "  elif i>8 and i <= 11:\n",
        "    r=3\n",
        "\n",
        "  j = i % 3\n",
        "\n",
        "  data = df[df['장르'] == gen]\n",
        "  data2 = data.groupby('출시 연도')['총 출고량'].sum()\n",
        "\n",
        "  ax[r,j].plot(data2)\n",
        "  ax[r,j].set_title(gen)\n",
        "  ax[r,j].set_ylim(0,180000000)\n",
        "\n",
        "plt.show()"
      ],
      "execution_count": 49,
      "outputs": [
        {
          "output_type": "display_data",
          "data": {
            "image/png": "[encoded data removed]",
            "text/plain": [
              "<Figure size 1800x1080 with 12 Axes>"
            ]
          },
          "metadata": {
            "tags": [],
            "needs_background": "light"
          }
        }
      ]
    },
    {
      "cell_type": "markdown",
      "metadata": {
        "id": "a6xHSJrXblFa"
      },
      "source": [
        "연도 별 게임 장르 트렌드를 파악하기 위해 연도 별로 각 장르의 총 출고량을 그래프로 확인해본 결과, Action, Sports, Shooter, Misc은 2010년 전후로 크게 출고량이 증가했다."
      ]
    },
    {
      "cell_type": "code",
      "metadata": {
        "colab": {
          "base_uri": "https://localhost:8080/",
          "height": 1000
        },
        "id": "fJQdcCj7wDIu",
        "outputId": "15ca391a-2de9-464b-9abb-cdf82738d391"
      },
      "source": [
        "#연도 별 게임 장르 트렌드 - 연도 별로 어떤 장르가 가장 많이 출시되었을까? (각 년도마다 최대 count인 장르 추출) -> 시기 별 어떤 장르가 많이 나왔는지 알 수 있다.\n",
        "df_연도별장르 = df.groupby(['출시 연도','장르']).size().reset_index(name='cnt')\n",
        "df_연도별장르\n",
        "#참고 - 피벗테이블: df_연도별장르.pivot('출시 연도','장르','cnt')\n",
        "idx = df_연도별장르.groupby(['출시 연도'])['cnt'].transform(max) == df_연도별장르['cnt']\n",
        "df_연도별장르[idx]"
      ],
      "execution_count": 51,
      "outputs": [
        {
          "output_type": "execute_result",
          "data": {
            "text/html": [
              "<div>\n",
              "<style scoped>\n",
              "    .dataframe tbody tr th:only-of-type {\n",
              "        vertical-align: middle;\n",
              "    }\n",
              "\n",
              "    .dataframe tbody tr th {\n",
              "        vertical-align: top;\n",
              "    }\n",
              "\n",
              "    .dataframe thead th {\n",
              "        text-align: right;\n",
              "    }\n",
              "</style>\n",
              "<table border=\"1\" class=\"dataframe\">\n",
              "  <thead>\n",
              "    <tr style=\"text-align: right;\">\n",
              "      <th></th>\n",
              "      <th>출시 연도</th>\n",
              "      <th>장르</th>\n",
              "      <th>cnt</th>\n",
              "    </tr>\n",
              "  </thead>\n",
              "  <tbody>\n",
              "    <tr>\n",
              "      <th>2</th>\n",
              "      <td>1980.0</td>\n",
              "      <td>Misc</td>\n",
              "      <td>4</td>\n",
              "    </tr>\n",
              "    <tr>\n",
              "      <th>4</th>\n",
              "      <td>1981.0</td>\n",
              "      <td>Action</td>\n",
              "      <td>25</td>\n",
              "    </tr>\n",
              "    <tr>\n",
              "      <th>11</th>\n",
              "      <td>1982.0</td>\n",
              "      <td>Action</td>\n",
              "      <td>18</td>\n",
              "    </tr>\n",
              "    <tr>\n",
              "      <th>18</th>\n",
              "      <td>1983.0</td>\n",
              "      <td>Action</td>\n",
              "      <td>7</td>\n",
              "    </tr>\n",
              "    <tr>\n",
              "      <th>28</th>\n",
              "      <td>1984.0</td>\n",
              "      <td>Puzzle</td>\n",
              "      <td>3</td>\n",
              "    </tr>\n",
              "    <tr>\n",
              "      <th>29</th>\n",
              "      <td>1984.0</td>\n",
              "      <td>Racing</td>\n",
              "      <td>3</td>\n",
              "    </tr>\n",
              "    <tr>\n",
              "      <th>30</th>\n",
              "      <td>1984.0</td>\n",
              "      <td>Shooter</td>\n",
              "      <td>3</td>\n",
              "    </tr>\n",
              "    <tr>\n",
              "      <th>34</th>\n",
              "      <td>1985.0</td>\n",
              "      <td>Platform</td>\n",
              "      <td>4</td>\n",
              "    </tr>\n",
              "    <tr>\n",
              "      <th>35</th>\n",
              "      <td>1985.0</td>\n",
              "      <td>Puzzle</td>\n",
              "      <td>4</td>\n",
              "    </tr>\n",
              "    <tr>\n",
              "      <th>39</th>\n",
              "      <td>1986.0</td>\n",
              "      <td>Action</td>\n",
              "      <td>6</td>\n",
              "    </tr>\n",
              "    <tr>\n",
              "      <th>51</th>\n",
              "      <td>1987.0</td>\n",
              "      <td>Sports</td>\n",
              "      <td>4</td>\n",
              "    </tr>\n",
              "    <tr>\n",
              "      <th>53</th>\n",
              "      <td>1988.0</td>\n",
              "      <td>Platform</td>\n",
              "      <td>4</td>\n",
              "    </tr>\n",
              "    <tr>\n",
              "      <th>63</th>\n",
              "      <td>1989.0</td>\n",
              "      <td>Puzzle</td>\n",
              "      <td>5</td>\n",
              "    </tr>\n",
              "    <tr>\n",
              "      <th>67</th>\n",
              "      <td>1990.0</td>\n",
              "      <td>Action</td>\n",
              "      <td>3</td>\n",
              "    </tr>\n",
              "    <tr>\n",
              "      <th>68</th>\n",
              "      <td>1990.0</td>\n",
              "      <td>Platform</td>\n",
              "      <td>3</td>\n",
              "    </tr>\n",
              "    <tr>\n",
              "      <th>73</th>\n",
              "      <td>1990.0</td>\n",
              "      <td>Sports</td>\n",
              "      <td>3</td>\n",
              "    </tr>\n",
              "    <tr>\n",
              "      <th>84</th>\n",
              "      <td>1991.0</td>\n",
              "      <td>Sports</td>\n",
              "      <td>7</td>\n",
              "    </tr>\n",
              "    <tr>\n",
              "      <th>88</th>\n",
              "      <td>1992.0</td>\n",
              "      <td>Fighting</td>\n",
              "      <td>7</td>\n",
              "    </tr>\n",
              "    <tr>\n",
              "      <th>100</th>\n",
              "      <td>1993.0</td>\n",
              "      <td>Fighting</td>\n",
              "      <td>11</td>\n",
              "    </tr>\n",
              "    <tr>\n",
              "      <th>102</th>\n",
              "      <td>1993.0</td>\n",
              "      <td>Platform</td>\n",
              "      <td>11</td>\n",
              "    </tr>\n",
              "    <tr>\n",
              "      <th>120</th>\n",
              "      <td>1994.0</td>\n",
              "      <td>Sports</td>\n",
              "      <td>22</td>\n",
              "    </tr>\n",
              "    <tr>\n",
              "      <th>132</th>\n",
              "      <td>1995.0</td>\n",
              "      <td>Sports</td>\n",
              "      <td>29</td>\n",
              "    </tr>\n",
              "    <tr>\n",
              "      <th>144</th>\n",
              "      <td>1996.0</td>\n",
              "      <td>Sports</td>\n",
              "      <td>51</td>\n",
              "    </tr>\n",
              "    <tr>\n",
              "      <th>156</th>\n",
              "      <td>1997.0</td>\n",
              "      <td>Sports</td>\n",
              "      <td>46</td>\n",
              "    </tr>\n",
              "    <tr>\n",
              "      <th>168</th>\n",
              "      <td>1998.0</td>\n",
              "      <td>Sports</td>\n",
              "      <td>70</td>\n",
              "    </tr>\n",
              "    <tr>\n",
              "      <th>180</th>\n",
              "      <td>1999.0</td>\n",
              "      <td>Sports</td>\n",
              "      <td>62</td>\n",
              "    </tr>\n",
              "    <tr>\n",
              "      <th>192</th>\n",
              "      <td>2000.0</td>\n",
              "      <td>Sports</td>\n",
              "      <td>81</td>\n",
              "    </tr>\n",
              "    <tr>\n",
              "      <th>204</th>\n",
              "      <td>2001.0</td>\n",
              "      <td>Sports</td>\n",
              "      <td>95</td>\n",
              "    </tr>\n",
              "    <tr>\n",
              "      <th>216</th>\n",
              "      <td>2002.0</td>\n",
              "      <td>Sports</td>\n",
              "      <td>187</td>\n",
              "    </tr>\n",
              "    <tr>\n",
              "      <th>218</th>\n",
              "      <td>2003.0</td>\n",
              "      <td>Action</td>\n",
              "      <td>144</td>\n",
              "    </tr>\n",
              "    <tr>\n",
              "      <th>230</th>\n",
              "      <td>2004.0</td>\n",
              "      <td>Action</td>\n",
              "      <td>124</td>\n",
              "    </tr>\n",
              "    <tr>\n",
              "      <th>242</th>\n",
              "      <td>2005.0</td>\n",
              "      <td>Action</td>\n",
              "      <td>191</td>\n",
              "    </tr>\n",
              "    <tr>\n",
              "      <th>254</th>\n",
              "      <td>2006.0</td>\n",
              "      <td>Action</td>\n",
              "      <td>182</td>\n",
              "    </tr>\n",
              "    <tr>\n",
              "      <th>266</th>\n",
              "      <td>2007.0</td>\n",
              "      <td>Action</td>\n",
              "      <td>210</td>\n",
              "    </tr>\n",
              "    <tr>\n",
              "      <th>278</th>\n",
              "      <td>2008.0</td>\n",
              "      <td>Action</td>\n",
              "      <td>218</td>\n",
              "    </tr>\n",
              "    <tr>\n",
              "      <th>290</th>\n",
              "      <td>2009.0</td>\n",
              "      <td>Action</td>\n",
              "      <td>270</td>\n",
              "    </tr>\n",
              "    <tr>\n",
              "      <th>302</th>\n",
              "      <td>2010.0</td>\n",
              "      <td>Action</td>\n",
              "      <td>226</td>\n",
              "    </tr>\n",
              "    <tr>\n",
              "      <th>314</th>\n",
              "      <td>2011.0</td>\n",
              "      <td>Action</td>\n",
              "      <td>238</td>\n",
              "    </tr>\n",
              "    <tr>\n",
              "      <th>326</th>\n",
              "      <td>2012.0</td>\n",
              "      <td>Action</td>\n",
              "      <td>263</td>\n",
              "    </tr>\n",
              "    <tr>\n",
              "      <th>338</th>\n",
              "      <td>2013.0</td>\n",
              "      <td>Action</td>\n",
              "      <td>148</td>\n",
              "    </tr>\n",
              "    <tr>\n",
              "      <th>350</th>\n",
              "      <td>2014.0</td>\n",
              "      <td>Action</td>\n",
              "      <td>186</td>\n",
              "    </tr>\n",
              "    <tr>\n",
              "      <th>362</th>\n",
              "      <td>2015.0</td>\n",
              "      <td>Action</td>\n",
              "      <td>250</td>\n",
              "    </tr>\n",
              "    <tr>\n",
              "      <th>374</th>\n",
              "      <td>2016.0</td>\n",
              "      <td>Action</td>\n",
              "      <td>117</td>\n",
              "    </tr>\n",
              "    <tr>\n",
              "      <th>386</th>\n",
              "      <td>2017.0</td>\n",
              "      <td>Role-Playing</td>\n",
              "      <td>2</td>\n",
              "    </tr>\n",
              "    <tr>\n",
              "      <th>387</th>\n",
              "      <td>2020.0</td>\n",
              "      <td>Simulation</td>\n",
              "      <td>1</td>\n",
              "    </tr>\n",
              "  </tbody>\n",
              "</table>\n",
              "</div>"
            ],
            "text/plain": [
              "      출시 연도            장르  cnt\n",
              "2    1980.0          Misc    4\n",
              "4    1981.0        Action   25\n",
              "11   1982.0        Action   18\n",
              "18   1983.0        Action    7\n",
              "28   1984.0        Puzzle    3\n",
              "29   1984.0        Racing    3\n",
              "30   1984.0       Shooter    3\n",
              "34   1985.0      Platform    4\n",
              "35   1985.0        Puzzle    4\n",
              "39   1986.0        Action    6\n",
              "51   1987.0        Sports    4\n",
              "53   1988.0      Platform    4\n",
              "63   1989.0        Puzzle    5\n",
              "67   1990.0        Action    3\n",
              "68   1990.0      Platform    3\n",
              "73   1990.0        Sports    3\n",
              "84   1991.0        Sports    7\n",
              "88   1992.0      Fighting    7\n",
              "100  1993.0      Fighting   11\n",
              "102  1993.0      Platform   11\n",
              "120  1994.0        Sports   22\n",
              "132  1995.0        Sports   29\n",
              "144  1996.0        Sports   51\n",
              "156  1997.0        Sports   46\n",
              "168  1998.0        Sports   70\n",
              "180  1999.0        Sports   62\n",
              "192  2000.0        Sports   81\n",
              "204  2001.0        Sports   95\n",
              "216  2002.0        Sports  187\n",
              "218  2003.0        Action  144\n",
              "230  2004.0        Action  124\n",
              "242  2005.0        Action  191\n",
              "254  2006.0        Action  182\n",
              "266  2007.0        Action  210\n",
              "278  2008.0        Action  218\n",
              "290  2009.0        Action  270\n",
              "302  2010.0        Action  226\n",
              "314  2011.0        Action  238\n",
              "326  2012.0        Action  263\n",
              "338  2013.0        Action  148\n",
              "350  2014.0        Action  186\n",
              "362  2015.0        Action  250\n",
              "374  2016.0        Action  117\n",
              "386  2017.0  Role-Playing    2\n",
              "387  2020.0    Simulation    1"
            ]
          },
          "metadata": {
            "tags": []
          },
          "execution_count": 51
        }
      ]
    },
    {
      "cell_type": "markdown",
      "metadata": {
        "id": "_Jiov4kqcRS4"
      },
      "source": [
        "연도 별로 어떤 장르가 가장 많이 출시되었는지 파악하기 위해 각 년도마다 최대 count인 장르를 분석해본 결과, 1994년부터 2002년까지 Sports 장르가 가장 많이 나왔고, 2003년부터 2016년도에 Action 장르가 가장 많이 나왔다. "
      ]
    },
    {
      "cell_type": "code",
      "metadata": {
        "colab": {
          "base_uri": "https://localhost:8080/",
          "height": 1000
        },
        "id": "fLNncL97hmb4",
        "outputId": "60835133-572f-4250-8bb3-fd9fc064e3bd"
      },
      "source": [
        "#연도 별 게임 장르 트렌드 - 연도 별로 어떤 장르의 출고량이 가장 많았을까? (각 년도마다 최대 출고량인 장르 추출) -> 시기 별 어떤 장르의 출고량이 가장 많았는지 알 수 있다.\n",
        "df_연도별장르출고량=df.pivot_table(\"총 출고량\", index=[\"출시 연도\", \"장르\"])\n",
        "idx = df_연도별장르출고량.groupby(['출시 연도'])['총 출고량'].transform(max) == df_연도별장르출고량['총 출고량']\n",
        "df_연도별장르출고량[idx]"
      ],
      "execution_count": 52,
      "outputs": [
        {
          "output_type": "execute_result",
          "data": {
            "text/html": [
              "<div>\n",
              "<style scoped>\n",
              "    .dataframe tbody tr th:only-of-type {\n",
              "        vertical-align: middle;\n",
              "    }\n",
              "\n",
              "    .dataframe tbody tr th {\n",
              "        vertical-align: top;\n",
              "    }\n",
              "\n",
              "    .dataframe thead th {\n",
              "        text-align: right;\n",
              "    }\n",
              "</style>\n",
              "<table border=\"1\" class=\"dataframe\">\n",
              "  <thead>\n",
              "    <tr style=\"text-align: right;\">\n",
              "      <th></th>\n",
              "      <th></th>\n",
              "      <th>총 출고량</th>\n",
              "    </tr>\n",
              "    <tr>\n",
              "      <th>출시 연도</th>\n",
              "      <th>장르</th>\n",
              "      <th></th>\n",
              "    </tr>\n",
              "  </thead>\n",
              "  <tbody>\n",
              "    <tr>\n",
              "      <th>1980.0</th>\n",
              "      <th>Shooter</th>\n",
              "      <td>3.535000e+06</td>\n",
              "    </tr>\n",
              "    <tr>\n",
              "      <th>1981.0</th>\n",
              "      <th>Platform</th>\n",
              "      <td>2.306667e+06</td>\n",
              "    </tr>\n",
              "    <tr>\n",
              "      <th>1982.0</th>\n",
              "      <th>Puzzle</th>\n",
              "      <td>3.346667e+06</td>\n",
              "    </tr>\n",
              "    <tr>\n",
              "      <th>1983.0</th>\n",
              "      <th>Sports</th>\n",
              "      <td>3.200000e+06</td>\n",
              "    </tr>\n",
              "    <tr>\n",
              "      <th>1984.0</th>\n",
              "      <th>Shooter</th>\n",
              "      <td>1.036667e+07</td>\n",
              "    </tr>\n",
              "    <tr>\n",
              "      <th>1985.0</th>\n",
              "      <th>Platform</th>\n",
              "      <td>1.079250e+07</td>\n",
              "    </tr>\n",
              "    <tr>\n",
              "      <th>1986.0</th>\n",
              "      <th>Role-Playing</th>\n",
              "      <td>2.520000e+06</td>\n",
              "    </tr>\n",
              "    <tr>\n",
              "      <th>1987.0</th>\n",
              "      <th>Adventure</th>\n",
              "      <td>4.380000e+06</td>\n",
              "    </tr>\n",
              "    <tr>\n",
              "      <th>1988.0</th>\n",
              "      <th>Platform</th>\n",
              "      <td>6.932500e+06</td>\n",
              "    </tr>\n",
              "    <tr>\n",
              "      <th>1989.0</th>\n",
              "      <th>Puzzle</th>\n",
              "      <td>7.550000e+06</td>\n",
              "    </tr>\n",
              "    <tr>\n",
              "      <th>1990.0</th>\n",
              "      <th>Platform</th>\n",
              "      <td>7.660000e+06</td>\n",
              "    </tr>\n",
              "    <tr>\n",
              "      <th>1991.0</th>\n",
              "      <th>Action</th>\n",
              "      <td>1.352000e+06</td>\n",
              "    </tr>\n",
              "    <tr>\n",
              "      <th>1992.0</th>\n",
              "      <th>Racing</th>\n",
              "      <td>4.525000e+06</td>\n",
              "    </tr>\n",
              "    <tr>\n",
              "      <th>1993.0</th>\n",
              "      <th>Platform</th>\n",
              "      <td>1.698182e+06</td>\n",
              "    </tr>\n",
              "    <tr>\n",
              "      <th>1994.0</th>\n",
              "      <th>Platform</th>\n",
              "      <td>2.614545e+06</td>\n",
              "    </tr>\n",
              "    <tr>\n",
              "      <th>1995.0</th>\n",
              "      <th>Platform</th>\n",
              "      <td>1.283846e+06</td>\n",
              "    </tr>\n",
              "    <tr>\n",
              "      <th>1996.0</th>\n",
              "      <th>Platform</th>\n",
              "      <td>2.016429e+06</td>\n",
              "    </tr>\n",
              "    <tr>\n",
              "      <th>1997.0</th>\n",
              "      <th>Platform</th>\n",
              "      <td>1.214444e+06</td>\n",
              "    </tr>\n",
              "    <tr>\n",
              "      <th>1998.0</th>\n",
              "      <th>Platform</th>\n",
              "      <td>1.205417e+06</td>\n",
              "    </tr>\n",
              "    <tr>\n",
              "      <th>1999.0</th>\n",
              "      <th>Role-Playing</th>\n",
              "      <td>1.476250e+06</td>\n",
              "    </tr>\n",
              "    <tr>\n",
              "      <th>2000.0</th>\n",
              "      <th>Role-Playing</th>\n",
              "      <td>1.001379e+06</td>\n",
              "    </tr>\n",
              "    <tr>\n",
              "      <th>2001.0</th>\n",
              "      <th>Fighting</th>\n",
              "      <td>1.005556e+06</td>\n",
              "    </tr>\n",
              "    <tr>\n",
              "      <th>2002.0</th>\n",
              "      <th>Role-Playing</th>\n",
              "      <td>8.350000e+05</td>\n",
              "    </tr>\n",
              "    <tr>\n",
              "      <th>2003.0</th>\n",
              "      <th>Role-Playing</th>\n",
              "      <td>6.310417e+05</td>\n",
              "    </tr>\n",
              "    <tr>\n",
              "      <th>2004.0</th>\n",
              "      <th>Role-Playing</th>\n",
              "      <td>8.991667e+05</td>\n",
              "    </tr>\n",
              "    <tr>\n",
              "      <th>2005.0</th>\n",
              "      <th>Simulation</th>\n",
              "      <td>1.296842e+06</td>\n",
              "    </tr>\n",
              "    <tr>\n",
              "      <th>2006.0</th>\n",
              "      <th>Sports</th>\n",
              "      <td>9.935036e+05</td>\n",
              "    </tr>\n",
              "    <tr>\n",
              "      <th>2007.0</th>\n",
              "      <th>Platform</th>\n",
              "      <td>8.459524e+05</td>\n",
              "    </tr>\n",
              "    <tr>\n",
              "      <th>2008.0</th>\n",
              "      <th>Racing</th>\n",
              "      <td>8.625610e+05</td>\n",
              "    </tr>\n",
              "    <tr>\n",
              "      <th>2009.0</th>\n",
              "      <th>Platform</th>\n",
              "      <td>1.462500e+06</td>\n",
              "    </tr>\n",
              "    <tr>\n",
              "      <th>2010.0</th>\n",
              "      <th>Platform</th>\n",
              "      <td>1.031613e+06</td>\n",
              "    </tr>\n",
              "    <tr>\n",
              "      <th>2011.0</th>\n",
              "      <th>Shooter</th>\n",
              "      <td>1.063587e+06</td>\n",
              "    </tr>\n",
              "    <tr>\n",
              "      <th>2012.0</th>\n",
              "      <th>Platform</th>\n",
              "      <td>1.685455e+06</td>\n",
              "    </tr>\n",
              "    <tr>\n",
              "      <th>2013.0</th>\n",
              "      <th>Shooter</th>\n",
              "      <td>1.063220e+06</td>\n",
              "    </tr>\n",
              "    <tr>\n",
              "      <th>2014.0</th>\n",
              "      <th>Shooter</th>\n",
              "      <td>1.404043e+06</td>\n",
              "    </tr>\n",
              "    <tr>\n",
              "      <th>2015.0</th>\n",
              "      <th>Shooter</th>\n",
              "      <td>1.944706e+06</td>\n",
              "    </tr>\n",
              "    <tr>\n",
              "      <th>2016.0</th>\n",
              "      <th>Shooter</th>\n",
              "      <td>4.506452e+05</td>\n",
              "    </tr>\n",
              "    <tr>\n",
              "      <th>2017.0</th>\n",
              "      <th>Role-Playing</th>\n",
              "      <td>2.000000e+04</td>\n",
              "    </tr>\n",
              "    <tr>\n",
              "      <th>2020.0</th>\n",
              "      <th>Simulation</th>\n",
              "      <td>2.900000e+05</td>\n",
              "    </tr>\n",
              "  </tbody>\n",
              "</table>\n",
              "</div>"
            ],
            "text/plain": [
              "                            총 출고량\n",
              "출시 연도  장르                        \n",
              "1980.0 Shooter       3.535000e+06\n",
              "1981.0 Platform      2.306667e+06\n",
              "1982.0 Puzzle        3.346667e+06\n",
              "1983.0 Sports        3.200000e+06\n",
              "1984.0 Shooter       1.036667e+07\n",
              "1985.0 Platform      1.079250e+07\n",
              "1986.0 Role-Playing  2.520000e+06\n",
              "1987.0 Adventure     4.380000e+06\n",
              "1988.0 Platform      6.932500e+06\n",
              "1989.0 Puzzle        7.550000e+06\n",
              "1990.0 Platform      7.660000e+06\n",
              "1991.0 Action        1.352000e+06\n",
              "1992.0 Racing        4.525000e+06\n",
              "1993.0 Platform      1.698182e+06\n",
              "1994.0 Platform      2.614545e+06\n",
              "1995.0 Platform      1.283846e+06\n",
              "1996.0 Platform      2.016429e+06\n",
              "1997.0 Platform      1.214444e+06\n",
              "1998.0 Platform      1.205417e+06\n",
              "1999.0 Role-Playing  1.476250e+06\n",
              "2000.0 Role-Playing  1.001379e+06\n",
              "2001.0 Fighting      1.005556e+06\n",
              "2002.0 Role-Playing  8.350000e+05\n",
              "2003.0 Role-Playing  6.310417e+05\n",
              "2004.0 Role-Playing  8.991667e+05\n",
              "2005.0 Simulation    1.296842e+06\n",
              "2006.0 Sports        9.935036e+05\n",
              "2007.0 Platform      8.459524e+05\n",
              "2008.0 Racing        8.625610e+05\n",
              "2009.0 Platform      1.462500e+06\n",
              "2010.0 Platform      1.031613e+06\n",
              "2011.0 Shooter       1.063587e+06\n",
              "2012.0 Platform      1.685455e+06\n",
              "2013.0 Shooter       1.063220e+06\n",
              "2014.0 Shooter       1.404043e+06\n",
              "2015.0 Shooter       1.944706e+06\n",
              "2016.0 Shooter       4.506452e+05\n",
              "2017.0 Role-Playing  2.000000e+04\n",
              "2020.0 Simulation    2.900000e+05"
            ]
          },
          "metadata": {
            "tags": []
          },
          "execution_count": 52
        }
      ]
    },
    {
      "cell_type": "markdown",
      "metadata": {
        "id": "lYQTkyJFdVLj"
      },
      "source": [
        "연도 별로 게임 장르의 최대 출고량을 분석한 결과, 2007년부터 2012년에는 Platfrom 장르의 출고량이 가장 많이 차지했고, 비교적 최근인 2013년부터 2016년도까지 Shooter 장르의 출고량이 가장 많았다."
      ]
    },
    {
      "cell_type": "markdown",
      "metadata": {
        "id": "VxI36Wd2exnI"
      },
      "source": [
        "####3. 출고량이 높은 게임에 대한 분석 및 시각화 프로세스"
      ]
    },
    {
      "cell_type": "code",
      "metadata": {
        "colab": {
          "base_uri": "https://localhost:8080/",
          "height": 235
        },
        "id": "74dofGPMCJ0m",
        "outputId": "46aae275-ded7-4d3b-954a-1dab03f779fb"
      },
      "source": [
        "#(전 시기) 출고량 제일 많은 게임\n",
        "data=df.set_index('게임 이름')\n",
        "data.nlargest(5,'총 출고량') "
      ],
      "execution_count": 53,
      "outputs": [
        {
          "output_type": "execute_result",
          "data": {
            "text/html": [
              "<div>\n",
              "<style scoped>\n",
              "    .dataframe tbody tr th:only-of-type {\n",
              "        vertical-align: middle;\n",
              "    }\n",
              "\n",
              "    .dataframe tbody tr th {\n",
              "        vertical-align: top;\n",
              "    }\n",
              "\n",
              "    .dataframe thead th {\n",
              "        text-align: right;\n",
              "    }\n",
              "</style>\n",
              "<table border=\"1\" class=\"dataframe\">\n",
              "  <thead>\n",
              "    <tr style=\"text-align: right;\">\n",
              "      <th></th>\n",
              "      <th>플랫폼</th>\n",
              "      <th>출시 연도</th>\n",
              "      <th>장르</th>\n",
              "      <th>제작 회사</th>\n",
              "      <th>북미지역 출고량</th>\n",
              "      <th>유럽지역 출고량</th>\n",
              "      <th>일본지역 출고량</th>\n",
              "      <th>기타지역 출고량</th>\n",
              "      <th>총 출고량</th>\n",
              "    </tr>\n",
              "    <tr>\n",
              "      <th>게임 이름</th>\n",
              "      <th></th>\n",
              "      <th></th>\n",
              "      <th></th>\n",
              "      <th></th>\n",
              "      <th></th>\n",
              "      <th></th>\n",
              "      <th></th>\n",
              "      <th></th>\n",
              "      <th></th>\n",
              "    </tr>\n",
              "  </thead>\n",
              "  <tbody>\n",
              "    <tr>\n",
              "      <th>Wii Sports</th>\n",
              "      <td>Wii</td>\n",
              "      <td>2006.0</td>\n",
              "      <td>Sports</td>\n",
              "      <td>Nintendo</td>\n",
              "      <td>41490000.0</td>\n",
              "      <td>29020000.0</td>\n",
              "      <td>3770000.0</td>\n",
              "      <td>8460000.0</td>\n",
              "      <td>82740000.0</td>\n",
              "    </tr>\n",
              "    <tr>\n",
              "      <th>Super Mario Bros.</th>\n",
              "      <td>NES</td>\n",
              "      <td>1985.0</td>\n",
              "      <td>Platform</td>\n",
              "      <td>Nintendo</td>\n",
              "      <td>29080000.0</td>\n",
              "      <td>3580000.0</td>\n",
              "      <td>6810000.0</td>\n",
              "      <td>770000.0</td>\n",
              "      <td>40240000.0</td>\n",
              "    </tr>\n",
              "    <tr>\n",
              "      <th>Mario Kart Wii</th>\n",
              "      <td>Wii</td>\n",
              "      <td>2008.0</td>\n",
              "      <td>Racing</td>\n",
              "      <td>Nintendo</td>\n",
              "      <td>15850000.0</td>\n",
              "      <td>12880000.0</td>\n",
              "      <td>3790000.0</td>\n",
              "      <td>3310000.0</td>\n",
              "      <td>35830000.0</td>\n",
              "    </tr>\n",
              "    <tr>\n",
              "      <th>Wii Sports Resort</th>\n",
              "      <td>Wii</td>\n",
              "      <td>2009.0</td>\n",
              "      <td>Sports</td>\n",
              "      <td>Nintendo</td>\n",
              "      <td>15750000.0</td>\n",
              "      <td>11010000.0</td>\n",
              "      <td>3280000.0</td>\n",
              "      <td>2960000.0</td>\n",
              "      <td>33000000.0</td>\n",
              "    </tr>\n",
              "    <tr>\n",
              "      <th>Pokemon Red/Pokemon Blue</th>\n",
              "      <td>GB</td>\n",
              "      <td>1996.0</td>\n",
              "      <td>Role-Playing</td>\n",
              "      <td>Nintendo</td>\n",
              "      <td>11270000.0</td>\n",
              "      <td>8890000.0</td>\n",
              "      <td>10220000.0</td>\n",
              "      <td>1000000.0</td>\n",
              "      <td>31380000.0</td>\n",
              "    </tr>\n",
              "  </tbody>\n",
              "</table>\n",
              "</div>"
            ],
            "text/plain": [
              "                          플랫폼   출시 연도  ...   기타지역 출고량       총 출고량\n",
              "게임 이름                                  ...                       \n",
              "Wii Sports                Wii  2006.0  ...  8460000.0  82740000.0\n",
              "Super Mario Bros.         NES  1985.0  ...   770000.0  40240000.0\n",
              "Mario Kart Wii            Wii  2008.0  ...  3310000.0  35830000.0\n",
              "Wii Sports Resort         Wii  2009.0  ...  2960000.0  33000000.0\n",
              "Pokemon Red/Pokemon Blue   GB  1996.0  ...  1000000.0  31380000.0\n",
              "\n",
              "[5 rows x 9 columns]"
            ]
          },
          "metadata": {
            "tags": []
          },
          "execution_count": 53
        }
      ]
    },
    {
      "cell_type": "code",
      "metadata": {
        "colab": {
          "base_uri": "https://localhost:8080/",
          "height": 235
        },
        "id": "WCgnc3iLJXV6",
        "outputId": "ddd768c1-9183-4c2e-d572-ef5551276987"
      },
      "source": [
        "#(최근 10년 내에 출시된 게임 중) 출고량 제일 많은 게임\n",
        "data[data['출시 연도'] >= 2010].nlargest(5,'총 출고량') "
      ],
      "execution_count": 75,
      "outputs": [
        {
          "output_type": "execute_result",
          "data": {
            "text/html": [
              "<div>\n",
              "<style scoped>\n",
              "    .dataframe tbody tr th:only-of-type {\n",
              "        vertical-align: middle;\n",
              "    }\n",
              "\n",
              "    .dataframe tbody tr th {\n",
              "        vertical-align: top;\n",
              "    }\n",
              "\n",
              "    .dataframe thead th {\n",
              "        text-align: right;\n",
              "    }\n",
              "</style>\n",
              "<table border=\"1\" class=\"dataframe\">\n",
              "  <thead>\n",
              "    <tr style=\"text-align: right;\">\n",
              "      <th></th>\n",
              "      <th>플랫폼</th>\n",
              "      <th>출시 연도</th>\n",
              "      <th>장르</th>\n",
              "      <th>제작 회사</th>\n",
              "      <th>북미지역 출고량</th>\n",
              "      <th>유럽지역 출고량</th>\n",
              "      <th>일본지역 출고량</th>\n",
              "      <th>기타지역 출고량</th>\n",
              "      <th>총 출고량</th>\n",
              "    </tr>\n",
              "    <tr>\n",
              "      <th>게임 이름</th>\n",
              "      <th></th>\n",
              "      <th></th>\n",
              "      <th></th>\n",
              "      <th></th>\n",
              "      <th></th>\n",
              "      <th></th>\n",
              "      <th></th>\n",
              "      <th></th>\n",
              "      <th></th>\n",
              "    </tr>\n",
              "  </thead>\n",
              "  <tbody>\n",
              "    <tr>\n",
              "      <th>Kinect Adventures!</th>\n",
              "      <td>X360</td>\n",
              "      <td>2010.0</td>\n",
              "      <td>Misc</td>\n",
              "      <td>Microsoft Game Studios</td>\n",
              "      <td>14970000.0</td>\n",
              "      <td>4940000.0</td>\n",
              "      <td>240000.0</td>\n",
              "      <td>1670000.0</td>\n",
              "      <td>21820000.0</td>\n",
              "    </tr>\n",
              "    <tr>\n",
              "      <th>Grand Theft Auto V</th>\n",
              "      <td>PS3</td>\n",
              "      <td>2013.0</td>\n",
              "      <td>Action</td>\n",
              "      <td>Take-Two Interactive</td>\n",
              "      <td>7010000.0</td>\n",
              "      <td>9270000.0</td>\n",
              "      <td>970000.0</td>\n",
              "      <td>4140000.0</td>\n",
              "      <td>21390000.0</td>\n",
              "    </tr>\n",
              "    <tr>\n",
              "      <th>Grand Theft Auto V</th>\n",
              "      <td>X360</td>\n",
              "      <td>2013.0</td>\n",
              "      <td>Action</td>\n",
              "      <td>Take-Two Interactive</td>\n",
              "      <td>9630000.0</td>\n",
              "      <td>5310000.0</td>\n",
              "      <td>60000.0</td>\n",
              "      <td>1380000.0</td>\n",
              "      <td>16380000.0</td>\n",
              "    </tr>\n",
              "    <tr>\n",
              "      <th>Call of Duty: Modern Warfare 3</th>\n",
              "      <td>X360</td>\n",
              "      <td>2011.0</td>\n",
              "      <td>Shooter</td>\n",
              "      <td>Activision</td>\n",
              "      <td>9030000.0</td>\n",
              "      <td>4280000.0</td>\n",
              "      <td>130000.0</td>\n",
              "      <td>1320000.0</td>\n",
              "      <td>14760000.0</td>\n",
              "    </tr>\n",
              "    <tr>\n",
              "      <th>Call of Duty: Black Ops</th>\n",
              "      <td>X360</td>\n",
              "      <td>2010.0</td>\n",
              "      <td>Shooter</td>\n",
              "      <td>Activision</td>\n",
              "      <td>9670000.0</td>\n",
              "      <td>3730000.0</td>\n",
              "      <td>110000.0</td>\n",
              "      <td>1130000.0</td>\n",
              "      <td>14640000.0</td>\n",
              "    </tr>\n",
              "  </tbody>\n",
              "</table>\n",
              "</div>"
            ],
            "text/plain": [
              "                                 플랫폼   출시 연도  ...   기타지역 출고량       총 출고량\n",
              "게임 이름                                         ...                       \n",
              "Kinect Adventures!              X360  2010.0  ...  1670000.0  21820000.0\n",
              "Grand Theft Auto V               PS3  2013.0  ...  4140000.0  21390000.0\n",
              "Grand Theft Auto V              X360  2013.0  ...  1380000.0  16380000.0\n",
              "Call of Duty: Modern Warfare 3  X360  2011.0  ...  1320000.0  14760000.0\n",
              "Call of Duty: Black Ops         X360  2010.0  ...  1130000.0  14640000.0\n",
              "\n",
              "[5 rows x 9 columns]"
            ]
          },
          "metadata": {
            "tags": []
          },
          "execution_count": 75
        }
      ]
    },
    {
      "cell_type": "code",
      "metadata": {
        "colab": {
          "base_uri": "https://localhost:8080/",
          "height": 665
        },
        "id": "9fUdcxGs6QC7",
        "outputId": "1d9be63d-09d3-4f90-c934-36233cb2a6cf"
      },
      "source": [
        "#최근 10년 내 출시된 게임 중 평균 출고량이 높은 장르 순위 -> Shooter, Platform, Sports는 상위 출고량 3 순위\n",
        "plt.figure(figsize=(15,10))\n",
        "\n",
        "a=data[data['출시 연도']>=2010].groupby('장르')['총 출고량'].mean().sort_values(ascending=False)\n",
        "a.plot(kind='bar',color=['skyblue']);"
      ],
      "execution_count": 102,
      "outputs": [
        {
          "output_type": "display_data",
          "data": {
            "image/png": "[encoded data removed]",
            "text/plain": [
              "<Figure size 1080x720 with 1 Axes>"
            ]
          },
          "metadata": {
            "tags": [],
            "needs_background": "light"
          }
        }
      ]
    },
    {
      "cell_type": "code",
      "metadata": {
        "colab": {
          "base_uri": "https://localhost:8080/"
        },
        "id": "ooxWllkgFRD9",
        "outputId": "a850d58b-83fe-4b7b-cb14-29cb5a943f3e"
      },
      "source": [
        "#출고량 상위 3개의 장르 평균 비교 -> 과연 출고량에서 유의미한 차이가 있을까? (Anova Test)\n",
        "#귀무가설: 세 개 장르 출고량 '평균'의 차이가 유의미하지 않다.\n",
        "#대립가설: 세 개 장르 출고량 '평균'의 차이가 유의미하다. (적어도 한 가지는 다르다.)\n",
        "\n",
        "from scipy import stats\n",
        "\n",
        "recent=data[data['출시 연도']<=2010]\n",
        "\n",
        "group1=recent[recent['장르']=='Shooter']['총 출고량']\n",
        "group2=recent[recent['장르']=='Platform']['총 출고량']\n",
        "group3=recent[recent['장르']=='Sports']['총 출고량']\n",
        "\n",
        "#등분산 검정: 분석결과 유의수준 0.05에서 귀무가설을 기각하지 못함 -> 등분산 가정 만족\n",
        "print(stats.bartlett(group1, group2, group3),stats.fligner(group1, group2, group3) ,stats.levene(group1, group2, group3), sep=\"\\n\")\n",
        "\n",
        "#ANOVA test 시행: 귀무가설 기각\n",
        "stats.f_oneway(group1, group2, group3).pvalue<0.5 "
      ],
      "execution_count": 56,
      "outputs": [
        {
          "output_type": "stream",
          "text": [
            "BartlettResult(statistic=222.503803019218, pvalue=4.8296212435212244e-49)\n",
            "FlignerResult(statistic=80.36204496210733, pvalue=3.544897312958483e-18)\n",
            "LeveneResult(statistic=9.456923217280023, pvalue=8.01010192943862e-05)\n"
          ],
          "name": "stdout"
        },
        {
          "output_type": "execute_result",
          "data": {
            "text/plain": [
              "True"
            ]
          },
          "metadata": {
            "tags": []
          },
          "execution_count": 56
        }
      ]
    },
    {
      "cell_type": "code",
      "metadata": {
        "colab": {
          "base_uri": "https://localhost:8080/"
        },
        "id": "bUKt8MemMTon",
        "outputId": "1517cb7f-53cb-4c26-e07e-ffaa448c5b64"
      },
      "source": [
        "#TTEST\n",
        "#귀무가설: Shooter, Platform 두 그룹간 평균의 차이가 유의미하지 않다.\n",
        "#대립가설: Shooter의 평균이 Platform의 평균보다 더 크다.\n",
        "stats.ttest_ind(group1, group2, equal_var = False, alternative = 'greater') #귀무가설 기각 x -> 유의미하지 않다."
      ],
      "execution_count": 82,
      "outputs": [
        {
          "output_type": "execute_result",
          "data": {
            "text/plain": [
              "Ttest_indResult(statistic=-2.796085324169264, pvalue=0.9973706014023317)"
            ]
          },
          "metadata": {
            "tags": []
          },
          "execution_count": 82
        }
      ]
    },
    {
      "cell_type": "code",
      "metadata": {
        "colab": {
          "base_uri": "https://localhost:8080/"
        },
        "id": "mgiUabzL7jzM",
        "outputId": "4f9a8638-9a44-464c-e7a1-dbc206084326"
      },
      "source": [
        "#TTEST\n",
        "#귀무가설: Platform, Sports 두 그룹간 평균의 차이가 유의미하지 않다.\n",
        "#대립가설: Platform의 평균이 Sports의 평균보다 더 크다.\n",
        "stats.ttest_ind(group2, group3, equal_var = False, alternative = 'greater') #귀무가설 기각 -> Platform이 더 크다."
      ],
      "execution_count": 84,
      "outputs": [
        {
          "output_type": "execute_result",
          "data": {
            "text/plain": [
              "Ttest_indResult(statistic=3.727508765627852, pvalue=0.00010134661824653249)"
            ]
          },
          "metadata": {
            "tags": []
          },
          "execution_count": 84
        }
      ]
    },
    {
      "cell_type": "markdown",
      "metadata": {
        "id": "6F4nEp2NMzg7"
      },
      "source": [
        "ANOVA 검정 시행 결과, 세 개 장르 출고량 평균이 적어도 한 가지는 다르다. 또, T-test 시행 결과, Shooter, Platform의 출고량 평균의 차이는 유의미하지 않고, Platform은 Sports에 비해서 높다는 것을 알 수 있다."
      ]
    },
    {
      "cell_type": "code",
      "metadata": {
        "colab": {
          "base_uri": "https://localhost:8080/",
          "height": 621
        },
        "id": "I2WIvblSNCQF",
        "outputId": "c9354b8a-3c28-4165-963e-f41a29f3f5bb"
      },
      "source": [
        "#최근 10년 내 출시된 게임 중 평균 출고량이 높은 플랫폼 순위 -> PS4, X360, PS3이 상위 출고량 3 순위\n",
        "plt.figure(figsize=(15,10))\n",
        "\n",
        "a=data[data['출시 연도']>=2010].groupby('플랫폼')['총 출고량'].mean().sort_values(ascending=False)\n",
        "a.plot(kind='bar',color=['skyblue']);"
      ],
      "execution_count": 96,
      "outputs": [
        {
          "output_type": "display_data",
          "data": {
            "image/png": "[encoded data removed]",
            "text/plain": [
              "<Figure size 1080x720 with 1 Axes>"
            ]
          },
          "metadata": {
            "tags": [],
            "needs_background": "light"
          }
        }
      ]
    },
    {
      "cell_type": "code",
      "metadata": {
        "colab": {
          "base_uri": "https://localhost:8080/",
          "height": 630
        },
        "id": "radGgri4N1qG",
        "outputId": "b21bb579-11ab-40df-a8f0-ce9c6564f984"
      },
      "source": [
        "#최근 10년 내 출시된 게임 중 Shooter 장르의 출고량이 가장 많은 플랫폼? -> X360\n",
        "plt.figure(figsize=(15,10))\n",
        "\n",
        "b=recent[recent['장르']=='Shooter'].groupby('플랫폼')['총 출고량'].sum().sort_values(ascending=False)\n",
        "b.plot(kind='bar',color=['skyblue']);"
      ],
      "execution_count": 93,
      "outputs": [
        {
          "output_type": "display_data",
          "data": {
            "image/png": "[encoded data removed]",
            "text/plain": [
              "<Figure size 1080x720 with 1 Axes>"
            ]
          },
          "metadata": {
            "tags": [],
            "needs_background": "light"
          }
        }
      ]
    },
    {
      "cell_type": "code",
      "metadata": {
        "colab": {
          "base_uri": "https://localhost:8080/",
          "height": 630
        },
        "id": "kXieSAI_PRY0",
        "outputId": "10ea42f6-282e-435f-afd4-04db5649290b"
      },
      "source": [
        "#최근 10년 내 출시된 게임 중 Platform 장르의 출고량이 가장 많은 플랫폼? -> NES\n",
        "plt.figure(figsize=(15,10))\n",
        "\n",
        "c=recent[recent['장르']=='Platform'].groupby('플랫폼')['총 출고량'].sum().sort_values(ascending=False)\n",
        "c.plot(kind='bar',color=['skyblue']);"
      ],
      "execution_count": 92,
      "outputs": [
        {
          "output_type": "display_data",
          "data": {
            "image/png": "[encoded data removed]",
            "text/plain": [
              "<Figure size 1080x720 with 1 Axes>"
            ]
          },
          "metadata": {
            "tags": [],
            "needs_background": "light"
          }
        }
      ]
    },
    {
      "cell_type": "code",
      "metadata": {
        "colab": {
          "base_uri": "https://localhost:8080/"
        },
        "id": "ynzS4PVdVp8s",
        "outputId": "06f6a68a-08f2-4aac-be7a-d47177d87a09"
      },
      "source": [
        "#장르와 플랫폼 사이에는 연관이 있을까?\n",
        "#귀무가설: 플랫폼과 장르 사이에는 연관이 있다.\n",
        "#대립가설: 플랫폼과 장르 사이에는 연관이 없다.\n",
        "cross_data=data[['장르','플랫폼','총 출고량']]\n",
        "cross_data=pd.crosstab(cross_data['장르'],cross_data['플랫폼'])\n",
        "cross_data\n",
        "from scipy.stats import chi2_contingency\n",
        "chi2=chi2_contingency(cross_data)\n",
        "chi2[1] #p-value가 0.05보다 작으므로 귀무가설을 기각한다. 즉, 플랫폼과 장르 사이에는 연관이 없다."
      ],
      "execution_count": 109,
      "outputs": [
        {
          "output_type": "execute_result",
          "data": {
            "text/plain": [
              "0.0"
            ]
          },
          "metadata": {
            "tags": []
          },
          "execution_count": 109
        }
      ]
    },
    {
      "cell_type": "markdown",
      "metadata": {
        "id": "AO3qLpqRTE3k"
      },
      "source": [
        "##3.데이터 분석 결과"
      ]
    },
    {
      "cell_type": "markdown",
      "metadata": {
        "id": "Fj7MK7GDwbz1"
      },
      "source": [
        "###Q 다음 분기에 어떤 게임을 설계해야 할까?\n",
        "- 주어진 데이터:게임 이름/플랫폼/출시 연도/장르/제작 회사/지역 별(북미, 유럽, 일본, 기타) 출고량\n",
        "\n",
        "###분석 내용\n",
        "####1. 지역에 따라서 선호하는 게임 장르\n",
        "- 각 지역에서 어떤 장르가 가장 출고량이 많을까? \n",
        "  - 북미지역은 Platform, 유럽지역은 Shooter, 일본지역은 Role-Playing, 기타지역은 Shooter이 평균적으로 큰 출고량을 차지함\n",
        "  - 북미지역은 platform>shooter>sports>racing 장르 순으로, 유럽지역은 shooter>platform>racing>sports 장르 순으로, 일본지역은 role-playing>platform>fighting>puzzle 장르 순으로, 기타지역은 shooter>racing>platform>sports 장르 순으로 출고량이 많았음\n",
        "  - 일본지역을 제외한 나머지 세 지역에서는 platform, shooter, sports, racing이 출고량이 높았고 이를 제외한 다른 장르도 거의 비슷한 형태를 보임. 즉, role-playing이 가장 출고량이 높았던 일본지역을 제외한 다른 지역에서는 선호하는 게임 장르가 유사함\n",
        "\n",
        "  --> 결론: 만약에 새로운 게임을 북미지역, 유럽지역, 기타지역에서 출시한다면, Shooter장르, Platform장르가 좋을 것으로 판단. 또한, shooter 장르의 경우, 일본에서는 출시하지 않는 것이 좋을 것으로 보임\n",
        "  \n",
        "\n",
        "####2. 연도별 게임의 트렌드\n",
        "- 연도 별 게임 전체 트렌드(시기에 따른 전체 게임 트렌드)\n",
        "  - 연도 별 총 출고량을 확인한 결과, 과거부터 출고량이 지속적으로 상승하다가 1995년부터 급격히 상승하여 2007-2009년 전 후로 정점을 찍고, 급격히 출고량이 감소하는 양상을 보임\n",
        "\n",
        "- 연도 별 게임 장르 트렌드 \n",
        "  - 어떤 장르가 크게 증가했을까? \n",
        "    - 연도 별로 각 장르의 총 출고량을 그래프로 확인해본 결과, Action, Sports, Shooter, Misc은 2010년 전후로 크게 출고량이 증가\n",
        "  - 연도 별로 어떤 장르가 가장 많이 출시되었을까? \n",
        "    - 이를 파악하기 위해 각 년도마다 최대 count인 장르를 추출해 분석한 결과, 1994년부터 2002년까지 Sports 장르가 가장 많이 출시되었고, 2003년부터 2016년도에 Action 장르가 가장 많이 출시됨\n",
        "  - 연도 별로 어떤 장르의 출고량이 가장 많았을까? \n",
        "    - 이를 파악하기 위해 각 년도마다 최대 출고량인 장르를 추출해 분석한 결과, 2007년부터 2012년에는 Platfrom 장르의 출고량이 가장 많이 차지했고, 비교적 최근인 2013년부터 2016년도까지 Shooter 장르의 출고량이 가장 많았음\n",
        "\n",
        "  --> 결론: 전체 트렌드 분석 결과, 전반적인 트렌드는 감소하는 형태임. 연도 별 게임 장르 트렌드 분석결과, 2003년 ~ 2016년에 Action 장르가 가장 많이 출시되었으나, 출고량을 확인해본 결과, 2007 ~ 2012년에는 Platform 장르의 출고량이 가장 많았고, 2013~2016년에도 역시 Action 장르가 아닌 Shooter 장르의 출고량이 가장 많았음\n",
        "\n",
        "\n",
        "####3. 출고량이 높은 게임에 대한 분석\n",
        "\n",
        "- (전 시기) 출고량 제일 많은 게임 5개: Wii Sports, Super Mario Bros., Mario Kart Wii, Wii Sports Resort, Pokemon Red/Pokemon Blue\n",
        "  - 특이점: 이 중 세 게임의 플랫폼은 'Wii'이고, 제작 회사는 5 개모두 'Nintendo'\n",
        "\n",
        "- 최근 10년 내에 출시된 게임 중 출고량 제일 많은 게임 5개: Kinect Adventures!, Grand Theft Auto V, Grand Theft Auto V, Call of Duty: Modern Warfare 3, Call of Duty: Black Ops\n",
        "  - 특이점: 이 중 네 게임의 플랫폼이 'X360'이고, 장르는 'Shooter', 'Action'이 각각 2개 씩 차지\n",
        "\n",
        "- 최근 10년 내 출시된 게임 중 평균 출고량이 높은 장르 순위: Shooter, Platform, Sports\n",
        "  - 과연 출고량에서 유의미한 차이가 있을까? (Anova Test/T-test)\n",
        "    - 출고량 상위 3개의 장르 평균을 비교하기 위해 ANOVA 검정 시행 결과, 세 개 장르 출고량 평균이 적어도 한 가지는 다르다. 또, T-test 시행 결과, Shooter, Platform의 출고량 평균의 차이는 유의미하지 않고, Platform은 Sports에 비해서 높다는 것을 알 수 있음\n",
        "\n",
        "- 최근 10년 내 출시된 게임 중 평균 출고량이 높은 플랫폼 순위: PS4, X360, PS3\n",
        "  - 최근 10년 내 출시된 게임 중 Shooter 장르의 출고량이 가장 많은 플랫폼: X360\n",
        "  - 최근 10년 내 출시된 게임 중 Platform 장르의 출고량이 가장 많은 플랫폼: NES\n",
        "  - 장르와 플랫폼 사이에는 연관이 있을까? \n",
        "    - 카이스퀘어 검정 결과, 플랫폼과 장르 사이에 연관성은 없다.\n",
        "\n",
        "  --> 결론: 최근 10년 내 출시된 게임 중 출고량이 많았던 5개의 게임 중 4 개의 플랫폼은 'X360'임. 최근 평균 출고량이 높은 장르 순위는 Shooter, Platform, Sports이었고, 이들 중 Shooter, Platform이 평균적으로 높았다. 마지막으로, 물론 장르와 플랫폼 사이에 연관성은 없어 특정 플랫폼이 특정 장르를 독점하고 있지는 않지만, 최근 Shooter 장르의 출고량이 가장 많았던 플랫폼은 'X360', 최근 Platform 장르의 출고량이 가장 많은 플랫폼은 'NES'로, 만약 Shooter 장르의 게임을 출시한다면 'X360'플랫폼을, 만약 Platform 장르의 게임을 출시한다면 'NES' 플랫폼을 선정하는 것이 좋다고 판단\n",
        "\n",
        "\n",
        "###분석 결과\n",
        "- 게임 장르: Shooter 혹은 Platform 장르 선정\n",
        "- 게임 지역: Shooter의 경우, 일본 지역을 제외한 전 지역에서 출시하고, Platform의 경우, 일본 지역을 포함한 전 지역에서 출시\n",
        "- 게임 플랫폼: Shooter 장르 출시할 경우 'X360' 플랫폼과 협력, Platform 장르 출시할 경우 'NES' 플랫폼과 협력"
      ]
    }
  ]
}